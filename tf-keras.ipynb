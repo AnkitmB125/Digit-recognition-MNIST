{
 "cells": [
  {
   "cell_type": "code",
   "execution_count": 23,
   "metadata": {},
   "outputs": [],
   "source": [
    "import numpy as np\n",
    "import pandas as pd\n",
    "import matplotlib.pyplot as plt\n",
    "from sklearn.model_selection import train_test_split\n",
    "from sklearn.metrics import accuracy_score, confusion_matrix"
   ]
  },
  {
   "cell_type": "code",
   "execution_count": 24,
   "metadata": {},
   "outputs": [],
   "source": [
    "import tensorflow as tf"
   ]
  },
  {
   "cell_type": "code",
   "execution_count": 43,
   "metadata": {},
   "outputs": [],
   "source": [
    "from tensorflow.keras.layers import Conv2D, Flatten, MaxPooling2D, Dense, Dropout\n",
    "from tensorflow.keras.models import Sequential\n",
    "from tensorflow.keras.utils import to_categorical\n",
    "from tensorflow.keras.callbacks import TensorBoard"
   ]
  },
  {
   "cell_type": "code",
   "execution_count": 26,
   "metadata": {},
   "outputs": [],
   "source": [
    "(x_train, y_train), (x_test, y_test) = tf.keras.datasets.mnist.load_data()"
   ]
  },
  {
   "cell_type": "code",
   "execution_count": 27,
   "metadata": {},
   "outputs": [],
   "source": [
    "y_train = to_categorical(y_train)"
   ]
  },
  {
   "cell_type": "code",
   "execution_count": 28,
   "metadata": {},
   "outputs": [
    {
     "data": {
      "text/plain": [
       "(60000, 28, 28)"
      ]
     },
     "execution_count": 28,
     "metadata": {},
     "output_type": "execute_result"
    }
   ],
   "source": [
    "x_train = np.array([np.reshape(i, (28,28)) for i in x_train])\n",
    "x_train = x_train/255\n",
    "x_train.shape"
   ]
  },
  {
   "cell_type": "code",
   "execution_count": null,
   "metadata": {},
   "outputs": [],
   "source": []
  },
  {
   "cell_type": "code",
   "execution_count": null,
   "metadata": {},
   "outputs": [],
   "source": []
  },
  {
   "cell_type": "code",
   "execution_count": null,
   "metadata": {},
   "outputs": [],
   "source": []
  },
  {
   "cell_type": "code",
   "execution_count": 29,
   "metadata": {},
   "outputs": [
    {
     "data": {
      "text/plain": [
       "<matplotlib.image.AxesImage at 0x7f9a202c9908>"
      ]
     },
     "execution_count": 29,
     "metadata": {},
     "output_type": "execute_result"
    },
    {
     "data": {
      "image/png": "[encoded data removed]",
      "text/plain": [
       "<Figure size 432x288 with 1 Axes>"
      ]
     },
     "metadata": {},
     "output_type": "display_data"
    }
   ],
   "source": [
    "plt.imshow(x_train[69])"
   ]
  },
  {
   "cell_type": "code",
   "execution_count": 30,
   "metadata": {},
   "outputs": [],
   "source": [
    "x_train_train, x_val, y_train_train, y_val = train_test_split(x_train, y_train, test_size=0.0833, random_state = 47)"
   ]
  },
  {
   "cell_type": "code",
   "execution_count": 31,
   "metadata": {},
   "outputs": [],
   "source": [
    "x_train_train = x_train_train.reshape(x_train_train.shape[0], 28,28,1)\n",
    "x_val = x_val.reshape(x_val.shape[0], 28,28,1)"
   ]
  },
  {
   "cell_type": "code",
   "execution_count": 38,
   "metadata": {},
   "outputs": [
    {
     "data": {
      "text/plain": [
       "(4998, 10)"
      ]
     },
     "execution_count": 38,
     "metadata": {},
     "output_type": "execute_result"
    }
   ],
   "source": [
    "y_val.shape"
   ]
  },
  {
   "cell_type": "code",
   "execution_count": 44,
   "metadata": {},
   "outputs": [],
   "source": [
    "model = Sequential()"
   ]
  },
  {
   "cell_type": "code",
   "execution_count": 45,
   "metadata": {},
   "outputs": [],
   "source": [
    "model.add(Conv2D(8, (3,3), input_shape=(28, 28, 1), activation='relu'))\n",
    "model.add(MaxPooling2D(pool_size=(2,2), strides=2))\n",
    "\n",
    "model.add(Conv2D(16, (3,3),activation='relu'))\n",
    "model.add(MaxPooling2D(pool_size=(2,2), strides=2))\n",
    "\n",
    "model.add(Flatten())\n",
    "model.add(Dense(120, activation='relu'))\n",
    "model.add(Dropout(0.3))\n",
    "model.add(Dense(84, activation='relu'))\n",
    "model.add(Dropout(0.3))\n",
    "model.add(Dense(10, activation='softmax'))"
   ]
  },
  {
   "cell_type": "code",
   "execution_count": 46,
   "metadata": {},
   "outputs": [
    {
     "name": "stdout",
     "output_type": "stream",
     "text": [
      "_________________________________________________________________\n",
      "Layer (type)                 Output Shape              Param #   \n",
      "=================================================================\n",
      "conv2d_4 (Conv2D)            (None, 26, 26, 8)         80        \n",
      "_________________________________________________________________\n",
      "max_pooling2d_4 (MaxPooling2 (None, 13, 13, 8)         0         \n",
      "_________________________________________________________________\n",
      "conv2d_5 (Conv2D)            (None, 11, 11, 16)        1168      \n",
      "_________________________________________________________________\n",
      "max_pooling2d_5 (MaxPooling2 (None, 5, 5, 16)          0         \n",
      "_________________________________________________________________\n",
      "flatten_2 (Flatten)          (None, 400)               0         \n",
      "_________________________________________________________________\n",
      "dense_6 (Dense)              (None, 120)               48120     \n",
      "_________________________________________________________________\n",
      "dropout_4 (Dropout)          (None, 120)               0         \n",
      "_________________________________________________________________\n",
      "dense_7 (Dense)              (None, 84)                10164     \n",
      "_________________________________________________________________\n",
      "dropout_5 (Dropout)          (None, 84)                0         \n",
      "_________________________________________________________________\n",
      "dense_8 (Dense)              (None, 10)                850       \n",
      "=================================================================\n",
      "Total params: 60,382\n",
      "Trainable params: 60,382\n",
      "Non-trainable params: 0\n",
      "_________________________________________________________________\n"
     ]
    }
   ],
   "source": [
    "model.summary()"
   ]
  },
  {
   "cell_type": "code",
   "execution_count": 47,
   "metadata": {},
   "outputs": [],
   "source": [
    "model.compile(loss='categorical_crossentropy', optimizer='adam', metrics=['accuracy'])"
   ]
  },
  {
   "cell_type": "code",
   "execution_count": 48,
   "metadata": {},
   "outputs": [],
   "source": [
    "tensor_board = TensorBoard(log_dir='./Graph', histogram_freq=0, write_graph=True, write_images=True)"
   ]
  },
  {
   "cell_type": "code",
   "execution_count": 49,
   "metadata": {},
   "outputs": [
    {
     "name": "stdout",
     "output_type": "stream",
     "text": [
      "Train on 55002 samples, validate on 4998 samples\n",
      "Epoch 1/50\n",
      "55002/55002 [==============================] - 17s 315us/step - loss: 0.6301 - acc: 0.7991 - val_loss: 0.1348 - val_acc: 0.9600\n",
      "Epoch 2/50\n",
      "55002/55002 [==============================] - 13s 241us/step - loss: 0.1820 - acc: 0.9461 - val_loss: 0.0810 - val_acc: 0.9754\n",
      "Epoch 3/50\n",
      "55002/55002 [==============================] - 15s 276us/step - loss: 0.1271 - acc: 0.9618 - val_loss: 0.0620 - val_acc: 0.9828\n",
      "Epoch 4/50\n",
      "55002/55002 [==============================] - 13s 233us/step - loss: 0.1031 - acc: 0.9697 - val_loss: 0.0554 - val_acc: 0.9830\n",
      "Epoch 5/50\n",
      "55002/55002 [==============================] - 16s 282us/step - loss: 0.0882 - acc: 0.9739 - val_loss: 0.0539 - val_acc: 0.9852\n",
      "Epoch 6/50\n",
      "55002/55002 [==============================] - 14s 250us/step - loss: 0.0787 - acc: 0.9768 - val_loss: 0.0483 - val_acc: 0.9854\n",
      "Epoch 7/50\n",
      "55002/55002 [==============================] - 13s 239us/step - loss: 0.0695 - acc: 0.9794 - val_loss: 0.0465 - val_acc: 0.9878\n",
      "Epoch 8/50\n",
      "55002/55002 [==============================] - 12s 214us/step - loss: 0.0683 - acc: 0.9797 - val_loss: 0.0394 - val_acc: 0.9884\n",
      "Epoch 9/50\n",
      "55002/55002 [==============================] - 11s 194us/step - loss: 0.0599 - acc: 0.9819 - val_loss: 0.0400 - val_acc: 0.9884\n",
      "Epoch 10/50\n",
      "55002/55002 [==============================] - 11s 202us/step - loss: 0.0563 - acc: 0.9834 - val_loss: 0.0388 - val_acc: 0.9888\n",
      "Epoch 11/50\n",
      "55002/55002 [==============================] - 13s 231us/step - loss: 0.0514 - acc: 0.9843 - val_loss: 0.0358 - val_acc: 0.9898\n",
      "Epoch 12/50\n",
      "55002/55002 [==============================] - 11s 200us/step - loss: 0.0484 - acc: 0.9847 - val_loss: 0.0387 - val_acc: 0.9902\n",
      "Epoch 13/50\n",
      "55002/55002 [==============================] - 11s 196us/step - loss: 0.0439 - acc: 0.9865 - val_loss: 0.0380 - val_acc: 0.9904\n",
      "Epoch 14/50\n",
      "55002/55002 [==============================] - 11s 204us/step - loss: 0.0435 - acc: 0.9869 - val_loss: 0.0399 - val_acc: 0.9890\n",
      "Epoch 15/50\n",
      "55002/55002 [==============================] - 12s 213us/step - loss: 0.0395 - acc: 0.9878 - val_loss: 0.0349 - val_acc: 0.9910\n",
      "Epoch 16/50\n",
      "55002/55002 [==============================] - 16s 283us/step - loss: 0.0372 - acc: 0.9887 - val_loss: 0.0377 - val_acc: 0.9910\n",
      "Epoch 17/50\n",
      "55002/55002 [==============================] - 12s 219us/step - loss: 0.0357 - acc: 0.9885 - val_loss: 0.0316 - val_acc: 0.9916\n",
      "Epoch 18/50\n",
      "55002/55002 [==============================] - 14s 248us/step - loss: 0.0342 - acc: 0.9894 - val_loss: 0.0351 - val_acc: 0.9914\n",
      "Epoch 19/50\n",
      "55002/55002 [==============================] - 11s 209us/step - loss: 0.0339 - acc: 0.9895 - val_loss: 0.0341 - val_acc: 0.9910\n",
      "Epoch 20/50\n",
      "55002/55002 [==============================] - 11s 199us/step - loss: 0.0324 - acc: 0.9907 - val_loss: 0.0361 - val_acc: 0.9914\n",
      "Epoch 21/50\n",
      "55002/55002 [==============================] - 14s 256us/step - loss: 0.0299 - acc: 0.9904 - val_loss: 0.0335 - val_acc: 0.9918\n",
      "Epoch 22/50\n",
      "55002/55002 [==============================] - 18s 330us/step - loss: 0.0284 - acc: 0.9907 - val_loss: 0.0372 - val_acc: 0.9906\n",
      "Epoch 23/50\n",
      "55002/55002 [==============================] - 13s 235us/step - loss: 0.0284 - acc: 0.9910 - val_loss: 0.0372 - val_acc: 0.9892\n",
      "Epoch 24/50\n",
      "55002/55002 [==============================] - 14s 263us/step - loss: 0.0253 - acc: 0.9925 - val_loss: 0.0309 - val_acc: 0.9916\n",
      "Epoch 25/50\n",
      "55002/55002 [==============================] - 14s 261us/step - loss: 0.0262 - acc: 0.9918 - val_loss: 0.0349 - val_acc: 0.9910\n",
      "Epoch 26/50\n",
      "55002/55002 [==============================] - 14s 255us/step - loss: 0.0236 - acc: 0.9926 - val_loss: 0.0320 - val_acc: 0.9926\n",
      "Epoch 27/50\n",
      "55002/55002 [==============================] - 15s 272us/step - loss: 0.0242 - acc: 0.9920 - val_loss: 0.0363 - val_acc: 0.9912\n",
      "Epoch 28/50\n",
      "55002/55002 [==============================] - 15s 264us/step - loss: 0.0204 - acc: 0.9935 - val_loss: 0.0404 - val_acc: 0.9896\n",
      "Epoch 29/50\n",
      "55002/55002 [==============================] - 13s 232us/step - loss: 0.0214 - acc: 0.9937 - val_loss: 0.0381 - val_acc: 0.9902\n",
      "Epoch 30/50\n",
      "55002/55002 [==============================] - 13s 228us/step - loss: 0.0217 - acc: 0.9929 - val_loss: 0.0371 - val_acc: 0.9904\n",
      "Epoch 31/50\n",
      "55002/55002 [==============================] - 13s 234us/step - loss: 0.0205 - acc: 0.9938 - val_loss: 0.0408 - val_acc: 0.9892\n",
      "Epoch 32/50\n",
      "55002/55002 [==============================] - 17s 314us/step - loss: 0.0200 - acc: 0.9931 - val_loss: 0.0361 - val_acc: 0.9902\n",
      "Epoch 33/50\n",
      "55002/55002 [==============================] - 15s 282us/step - loss: 0.0203 - acc: 0.9935 - val_loss: 0.0362 - val_acc: 0.9910\n",
      "Epoch 34/50\n",
      "55002/55002 [==============================] - 13s 241us/step - loss: 0.0184 - acc: 0.9942 - val_loss: 0.0402 - val_acc: 0.9890\n",
      "Epoch 35/50\n",
      "55002/55002 [==============================] - 12s 226us/step - loss: 0.0181 - acc: 0.9943 - val_loss: 0.0366 - val_acc: 0.9912\n",
      "Epoch 36/50\n",
      "55002/55002 [==============================] - 14s 248us/step - loss: 0.0196 - acc: 0.9939 - val_loss: 0.0394 - val_acc: 0.9904\n",
      "Epoch 37/50\n",
      "55002/55002 [==============================] - 14s 246us/step - loss: 0.0167 - acc: 0.9949 - val_loss: 0.0369 - val_acc: 0.9904\n",
      "Epoch 38/50\n",
      "55002/55002 [==============================] - 12s 220us/step - loss: 0.0182 - acc: 0.9936 - val_loss: 0.0425 - val_acc: 0.9898\n",
      "Epoch 39/50\n",
      "55002/55002 [==============================] - 14s 261us/step - loss: 0.0170 - acc: 0.9945 - val_loss: 0.0426 - val_acc: 0.9890\n",
      "Epoch 40/50\n",
      "55002/55002 [==============================] - 18s 334us/step - loss: 0.0169 - acc: 0.9942 - val_loss: 0.0414 - val_acc: 0.9910\n",
      "Epoch 41/50\n",
      "55002/55002 [==============================] - 13s 231us/step - loss: 0.0154 - acc: 0.9951 - val_loss: 0.0357 - val_acc: 0.9908\n",
      "Epoch 42/50\n",
      "55002/55002 [==============================] - 14s 250us/step - loss: 0.0138 - acc: 0.9957 - val_loss: 0.0430 - val_acc: 0.9904\n",
      "Epoch 43/50\n",
      "55002/55002 [==============================] - 12s 216us/step - loss: 0.0154 - acc: 0.9952 - val_loss: 0.0390 - val_acc: 0.9910\n",
      "Epoch 44/50\n",
      "55002/55002 [==============================] - 15s 273us/step - loss: 0.0135 - acc: 0.9955 - val_loss: 0.0409 - val_acc: 0.9902\n",
      "Epoch 45/50\n",
      "55002/55002 [==============================] - 14s 258us/step - loss: 0.0145 - acc: 0.9953 - val_loss: 0.0394 - val_acc: 0.9908\n",
      "Epoch 46/50\n",
      "55002/55002 [==============================] - 14s 254us/step - loss: 0.0143 - acc: 0.9952 - val_loss: 0.0398 - val_acc: 0.9906\n",
      "Epoch 47/50\n",
      "55002/55002 [==============================] - 12s 215us/step - loss: 0.0148 - acc: 0.9949 - val_loss: 0.0381 - val_acc: 0.9904\n",
      "Epoch 48/50\n",
      "55002/55002 [==============================] - 14s 255us/step - loss: 0.0128 - acc: 0.9961 - val_loss: 0.0441 - val_acc: 0.9894\n",
      "Epoch 49/50\n",
      "55002/55002 [==============================] - 11s 209us/step - loss: 0.0126 - acc: 0.9959 - val_loss: 0.0433 - val_acc: 0.9898\n",
      "Epoch 50/50\n",
      "55002/55002 [==============================] - 12s 222us/step - loss: 0.0143 - acc: 0.9952 - val_loss: 0.0451 - val_acc: 0.9896\n"
     ]
    }
   ],
   "source": [
    "history = model.fit(x_train_train, y_train_train, validation_data=(x_val, y_val), epochs=50, batch_size=256, callbacks=[tensor_board])"
   ]
  },
  {
   "cell_type": "code",
   "execution_count": null,
   "metadata": {},
   "outputs": [],
   "source": []
  },
  {
   "cell_type": "code",
   "execution_count": 51,
   "metadata": {},
   "outputs": [
    {
     "data": {
      "image/png": "[encoded data removed]",
      "text/plain": [
       "<Figure size 432x288 with 1 Axes>"
      ]
     },
     "metadata": {},
     "output_type": "display_data"
    }
   ],
   "source": [
    "plt.plot(history.history['acc'])\n",
    "plt.plot(history.history['val_acc'])\n",
    "plt.title(\"Accuracy\")\n",
    "plt.xlabel('epoch')\n",
    "plt.ylabel('accuracy')\n",
    "plt.legend(['train','test'])\n",
    "plt.show()"
   ]
  },
  {
   "cell_type": "code",
   "execution_count": null,
   "metadata": {},
   "outputs": [],
   "source": []
  },
  {
   "cell_type": "code",
   "execution_count": 54,
   "metadata": {},
   "outputs": [
    {
     "data": {
      "text/plain": [
       "(10000, 28, 28)"
      ]
     },
     "execution_count": 54,
     "metadata": {},
     "output_type": "execute_result"
    }
   ],
   "source": [
    "x_test.shape"
   ]
  },
  {
   "cell_type": "code",
   "execution_count": 55,
   "metadata": {},
   "outputs": [],
   "source": [
    "y_test = to_categorical(y_test)"
   ]
  },
  {
   "cell_type": "code",
   "execution_count": 57,
   "metadata": {},
   "outputs": [
    {
     "data": {
      "text/plain": [
       "(10000, 28, 28)"
      ]
     },
     "execution_count": 57,
     "metadata": {},
     "output_type": "execute_result"
    }
   ],
   "source": [
    "x_test = np.array([np.reshape(i, (28,28)) for i in x_test])\n",
    "x_test = x_test/255\n",
    "x_test.shape"
   ]
  },
  {
   "cell_type": "code",
   "execution_count": 62,
   "metadata": {},
   "outputs": [],
   "source": [
    "x_test = x_test.reshape(x_test.shape[0], 28, 28, 1)"
   ]
  },
  {
   "cell_type": "code",
   "execution_count": 63,
   "metadata": {},
   "outputs": [
    {
     "data": {
      "text/plain": [
       "(10000, 28, 28, 1)"
      ]
     },
     "execution_count": 63,
     "metadata": {},
     "output_type": "execute_result"
    }
   ],
   "source": [
    "x_test.shape"
   ]
  },
  {
   "cell_type": "code",
   "execution_count": 64,
   "metadata": {},
   "outputs": [],
   "source": [
    "predictions = model.predict(x_test)"
   ]
  },
  {
   "cell_type": "code",
   "execution_count": 67,
   "metadata": {},
   "outputs": [],
   "source": [
    "ans = np.argmax(predictions, axis=1)"
   ]
  },
  {
   "cell_type": "code",
   "execution_count": 70,
   "metadata": {},
   "outputs": [],
   "source": [
    "y_test = np.argmax(y_test,axis=1)"
   ]
  },
  {
   "cell_type": "code",
   "execution_count": 77,
   "metadata": {},
   "outputs": [
    {
     "name": "stdout",
     "output_type": "stream",
     "text": [
      "test accuracy: 0.9907\n"
     ]
    }
   ],
   "source": [
    "print(\"test accuracy:\", accuracy_score(y_test,ans))"
   ]
  },
  {
   "cell_type": "code",
   "execution_count": 75,
   "metadata": {},
   "outputs": [
    {
     "data": {
      "text/plain": [
       "array([[ 976,    1,    1,    0,    0,    0,    1,    1,    0,    0],\n",
       "       [   0, 1133,    1,    0,    0,    0,    1,    0,    0,    0],\n",
       "       [   2,    2, 1020,    1,    1,    0,    1,    3,    2,    0],\n",
       "       [   0,    1,    0, 1002,    0,    4,    0,    1,    2,    0],\n",
       "       [   0,    1,    0,    0,  973,    0,    1,    0,    0,    7],\n",
       "       [   1,    0,    1,    6,    0,  882,    1,    1,    0,    0],\n",
       "       [   7,    2,    0,    1,    1,    1,  945,    0,    1,    0],\n",
       "       [   1,    4,    4,    1,    0,    0,    0, 1016,    1,    1],\n",
       "       [   1,    0,    1,    2,    0,    0,    0,    1,  968,    1],\n",
       "       [   0,    3,    2,    0,    6,    1,    0,    3,    2,  992]])"
      ]
     },
     "execution_count": 75,
     "metadata": {},
     "output_type": "execute_result"
    }
   ],
   "source": [
    "confusion_matrix(y_test, ans)"
   ]
  },
  {
   "cell_type": "code",
   "execution_count": null,
   "metadata": {},
   "outputs": [],
   "source": []
  }
 ],
 "metadata": {
  "kernelspec": {
   "display_name": "Python 3",
   "language": "python",
   "name": "python3"
  },
  "language_info": {
   "codemirror_mode": {
    "name": "ipython",
    "version": 3
   },
   "file_extension": ".py",
   "mimetype": "text/x-python",
   "name": "python",
   "nbconvert_exporter": "python",
   "pygments_lexer": "ipython3",
   "version": "3.6.5"
  }
 },
 "nbformat": 4,
 "nbformat_minor": 2
}
