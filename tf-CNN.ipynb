{
 "cells": [
  {
   "cell_type": "code",
   "execution_count": 12,
   "metadata": {},
   "outputs": [],
   "source": [
    "import matplotlib.pyplot as plt\n",
    "%matplotlib inline\n",
    "import tensorflow as tf\n",
    "import numpy as np\n",
    "import pandas as pd\n",
    "from sklearn.metrics import confusion_matrix\n",
    "import time\n",
    "import math"
   ]
  },
  {
   "cell_type": "code",
   "execution_count": 13,
   "metadata": {},
   "outputs": [],
   "source": [
    "from sklearn.model_selection import train_test_split\n",
    "from sklearn.metrics import accuracy_score"
   ]
  },
  {
   "cell_type": "code",
   "execution_count": 14,
   "metadata": {},
   "outputs": [],
   "source": [
    "from tensorflow.examples.tutorials.mnist import input_data"
   ]
  },
  {
   "cell_type": "code",
   "execution_count": 15,
   "metadata": {},
   "outputs": [
    {
     "name": "stdout",
     "output_type": "stream",
     "text": [
      "Extracting data/train-images-idx3-ubyte.gz\n",
      "Extracting data/train-labels-idx1-ubyte.gz\n",
      "Extracting data/t10k-images-idx3-ubyte.gz\n",
      "Extracting data/t10k-labels-idx1-ubyte.gz\n"
     ]
    }
   ],
   "source": [
    "mnist = input_data.read_data_sets(\"data/\", one_hot = True)"
   ]
  },
  {
   "cell_type": "code",
   "execution_count": 16,
   "metadata": {},
   "outputs": [],
   "source": [
    "batch_size = 128\n",
    "n_classes = 10"
   ]
  },
  {
   "cell_type": "code",
   "execution_count": 17,
   "metadata": {},
   "outputs": [],
   "source": [
    "keep_rate = 0.8\n",
    "keep_prob = tf.placeholder(tf.float32)"
   ]
  },
  {
   "cell_type": "code",
   "execution_count": 18,
   "metadata": {},
   "outputs": [],
   "source": [
    "x = tf.placeholder(tf.float32, [None, 784])\n",
    "y = tf.placeholder(tf.float32, [None, n_classes])"
   ]
  },
  {
   "cell_type": "code",
   "execution_count": 19,
   "metadata": {},
   "outputs": [],
   "source": [
    "def conv2d(x, W):\n",
    "    return tf.nn.conv2d(x, W, strides=[1,1,1,1], padding='SAME')\n",
    "def maxpool2d(x):\n",
    "    return tf.nn.max_pool(x, ksize=[1,2,2,1], strides=[1,2,2,1], padding='SAME')"
   ]
  },
  {
   "cell_type": "code",
   "execution_count": 20,
   "metadata": {},
   "outputs": [],
   "source": [
    "def convolutional_neural_network(x):\n",
    "    weights = {'W_conv1': tf.Variable(tf.random_normal([3,3,1,32])),\n",
    "                'W_conv2': tf.Variable(tf.random_normal([3,3,32,64])),\n",
    "               'W_fc': tf.Variable(tf.random_normal([7*7*64, 1024])),\n",
    "               'out': tf.Variable(tf.random_normal([1024, n_classes]))\n",
    "              }\n",
    "    \n",
    "    biases = {'b_conv1': tf.Variable(tf.random_normal([32])),\n",
    "              'b_conv2': tf.Variable(tf.random_normal([64])),\n",
    "              'b_fc': tf.Variable(tf.random_normal([1024])),\n",
    "              'out': tf.Variable(tf.random_normal([n_classes])),\n",
    "    }\n",
    "    \n",
    "    x = tf.reshape(x, shape=[-1,28,28,1])\n",
    "    conv1 = conv2d(x, weights['W_conv1'])+biases['b_conv1']\n",
    "    conv1 = tf.nn.relu(conv1)\n",
    "    conv1 = maxpool2d(conv1)\n",
    "    \n",
    "    conv2 = conv2d(conv1, weights['W_conv2'])+biases['b_conv2']\n",
    "    conv2 = tf.nn.relu(conv2)\n",
    "    conv2 = maxpool2d(conv2)\n",
    "    \n",
    "    fc = tf.reshape(conv2, [-1, 7*7*64])\n",
    "    fc = tf.matmul(fc, weights['W_fc']) + biases['b_fc']\n",
    "    fc = tf.nn.relu(fc)\n",
    "    fc = tf.nn.dropout(fc, keep_rate)\n",
    "    \n",
    "    output = tf.matmul(fc, weights['out']) + biases['out']\n",
    "    \n",
    "    return output"
   ]
  },
  {
   "cell_type": "code",
   "execution_count": 21,
   "metadata": {},
   "outputs": [],
   "source": [
    "def train_neural_network(x):\n",
    "    prediction = convolutional_neural_network(x)\n",
    "    cost = tf.reduce_mean(tf.nn.softmax_cross_entropy_with_logits_v2(logits=prediction, labels=y))\n",
    "    optimizer = tf.train.AdamOptimizer().minimize(cost)\n",
    "    \n",
    "    hm_epochs = 20\n",
    "    with tf.Session() as sess:\n",
    "        sess.run(tf.global_variables_initializer())\n",
    "        \n",
    "        for epoch in range(hm_epochs):\n",
    "            epoch_loss = 0\n",
    "            for _ in range(int(mnist.train.num_examples/batch_size)):\n",
    "                epoch_x, epoch_y = mnist.train.next_batch(batch_size)\n",
    "                _, c = sess.run([optimizer, cost], feed_dict={x: epoch_x, y: epoch_y})\n",
    "                epoch_loss+=c\n",
    "            print('Epoch', epoch, 'completed out of',hm_epochs,'loss:',epoch_loss)\n",
    "            correct = tf.equal(tf.argmax(prediction, 1), tf.argmax(y, 1))\n",
    "\n",
    "        accuracy = tf.reduce_mean(tf.cast(correct, 'float'))\n",
    "        print('Accuracy:',accuracy.eval({x:mnist.test.images, y:mnist.test.labels}))"
   ]
  },
  {
   "cell_type": "code",
   "execution_count": 22,
   "metadata": {},
   "outputs": [
    {
     "name": "stdout",
     "output_type": "stream",
     "text": [
      "Epoch 0 completed out of 20 loss: 945580.1108398438\n",
      "Epoch 1 completed out of 20 loss: 123756.98294448853\n",
      "Epoch 2 completed out of 20 loss: 64135.60024833679\n",
      "Epoch 3 completed out of 20 loss: 40939.48117160797\n",
      "Epoch 4 completed out of 20 loss: 29976.338383436203\n",
      "Epoch 5 completed out of 20 loss: 21033.47698456049\n",
      "Epoch 6 completed out of 20 loss: 15923.538763523102\n",
      "Epoch 7 completed out of 20 loss: 12782.876502290368\n",
      "Epoch 8 completed out of 20 loss: 10468.096100091934\n",
      "Epoch 9 completed out of 20 loss: 8775.063146054745\n",
      "Epoch 10 completed out of 20 loss: 7060.267597378232\n",
      "Epoch 11 completed out of 20 loss: 6943.423261245713\n",
      "Epoch 12 completed out of 20 loss: 5535.895692221912\n",
      "Epoch 13 completed out of 20 loss: 4767.758868733231\n",
      "Epoch 14 completed out of 20 loss: 3742.1950866300613\n",
      "Epoch 15 completed out of 20 loss: 3770.960674008527\n",
      "Epoch 16 completed out of 20 loss: 3501.419265395777\n",
      "Epoch 17 completed out of 20 loss: 2990.607310793712\n",
      "Epoch 18 completed out of 20 loss: 2405.5044066673145\n",
      "Epoch 19 completed out of 20 loss: 2175.154724440479\n",
      "Accuracy: 0.9774\n"
     ]
    }
   ],
   "source": [
    "train_neural_network(x)"
   ]
  },
  {
   "cell_type": "code",
   "execution_count": null,
   "metadata": {},
   "outputs": [],
   "source": []
  }
 ],
 "metadata": {
  "kernelspec": {
   "display_name": "Python 3",
   "language": "python",
   "name": "python3"
  },
  "language_info": {
   "codemirror_mode": {
    "name": "ipython",
    "version": 3
   },
   "file_extension": ".py",
   "mimetype": "text/x-python",
   "name": "python",
   "nbconvert_exporter": "python",
   "pygments_lexer": "ipython3",
   "version": "3.6.5"
  }
 },
 "nbformat": 4,
 "nbformat_minor": 2
}
